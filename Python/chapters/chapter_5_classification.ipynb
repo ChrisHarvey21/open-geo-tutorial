{
  "cells": [
    {
      "cell_type": "markdown",
      "metadata": {
        "id": "view-in-github",
        "colab_type": "text"
      },
      "source": [
        "<a href=\"https://colab.research.google.com/github/ChrisHarvey21/open-geo-tutorial/blob/master/Python/chapters/chapter_5_classification.ipynb\" target=\"_parent\"><img src=\"https://colab.research.google.com/assets/colab-badge.svg\" alt=\"Open In Colab\"/></a>"
      ]
    },
    {
      "cell_type": "markdown",
      "metadata": {
        "id": "gcSnrozDx7kn"
      },
      "source": [
        "Chris Holden (ceholden@gmail.com) - https://github.com/ceholden\n",
        "\n",
        "Chapter 5: Classification of land cover\n",
        "======================================="
      ]
    },
    {
      "cell_type": "code",
      "source": [
        "!git clone https://github.com/ChrisHarvey21/open-geo-tutorial open-geo-tutorial"
      ],
      "metadata": {
        "id": "x0zfmsbhyTiG",
        "outputId": "cadc0a0c-65e7-4219-b26f-eeb98fb2c87f",
        "colab": {
          "base_uri": "https://localhost:8080/"
        }
      },
      "execution_count": 4,
      "outputs": [
        {
          "output_type": "stream",
          "name": "stdout",
          "text": [
            "Cloning into 'open-geo-tutorial'...\n",
            "remote: Enumerating objects: 389, done.\u001b[K\n",
            "remote: Counting objects: 100% (16/16), done.\u001b[K\n",
            "remote: Compressing objects: 100% (8/8), done.\u001b[K\n",
            "remote: Total 389 (delta 8), reused 8 (delta 8), pack-reused 373\u001b[K\n",
            "Receiving objects: 100% (389/389), 29.06 MiB | 33.13 MiB/s, done.\n",
            "Resolving deltas: 100% (233/233), done.\n"
          ]
        }
      ]
    },
    {
      "cell_type": "code",
      "source": [
        "!ls"
      ],
      "metadata": {
        "id": "ePH0E7ljyiVu",
        "outputId": "0dd489c1-e4be-4d5d-961a-35063eaa8b30",
        "colab": {
          "base_uri": "https://localhost:8080/"
        }
      },
      "execution_count": 5,
      "outputs": [
        {
          "output_type": "stream",
          "name": "stdout",
          "text": [
            "open-geo-tutorial  sample_data\n"
          ]
        }
      ]
    },
    {
      "cell_type": "code",
      "source": [
        "!ls open-geo-tutorial"
      ],
      "metadata": {
        "id": "2yCGghNZzXM0",
        "outputId": "8b98c0d4-0997-448b-ad0e-c501fb3ac6f8",
        "colab": {
          "base_uri": "https://localhost:8080/"
        }
      },
      "execution_count": 7,
      "outputs": [
        {
          "output_type": "stream",
          "name": "stdout",
          "text": [
            "environment.yml  LICENSE\t\t  Python  README.md\n",
            "example\t\t open-geo-tutorial.Rproj  R\t  requirements.txt\n"
          ]
        }
      ]
    },
    {
      "cell_type": "markdown",
      "metadata": {
        "id": "vhcEJ-sqx7ks"
      },
      "source": [
        "## Introduction\n",
        "In this chapter we will classify the Landsat image we've been working with using a supervised classification approach which incorporates the training data we worked with in [chapter 4](chapter_4_vector.ipynb). Specifically, we will be using the [RandomForest (Brieman 2001)](http://link.springer.com/article/10.1023/A:1010933404324) ensemble decision tree algorithm by [Leo Breiman and Adele Cutler](http://www.stat.berkeley.edu/~breiman/RandomForests/cc_home.htm). The RandomForest algorithm has recently become extremely popular in the field of remote sensing, and is quite fast when compared to some other machine learning approaches (e.g., SVM can be quite computationally intensive). This isn't to say that it is the best per se; rather it is a great first step into the world of machine learning for classification and regression.\n",
        "\n",
        "A few good resources for understanding RandomForest can be found:\n",
        "+ [Breiman, Leo. 2001. Random Forests. Machine Learning 45-1: 5-32.](http://link.springer.com/article/10.1023/A:1010933404324)\n",
        "+ [Wikipedia - Random Forest](http://en.wikipedia.org/wiki/Random_forest)\n",
        "+ [Breiman and Cutler's website](http://www.stat.berkeley.edu/~breiman/RandomForests/cc_home.htm#workings)\n",
        "+ [Blog entry from ŷhat](http://blog.yhathq.com/posts/random-forests-in-python.html)\n",
        "\n",
        "A brief explanation of the RandomForest algorithm comes from the name. Rather than utilize the predictions of a single decision tree, the algorithm will take the ensemble result of a large number of decision trees (a forest of them). The \"Random\" part of the name comes from the term \"bootstrap aggregating\", or \"bagging\". What this means is that each tree within the forest only gets to train on some subset of the full training dataset (the subset is determined by sampling with replacement). The elements of the training data for each tree that are left unseen are held \"out-of-bag\" for estimation of accuracy. Randomness also helps decide which feature input variables are seen at each node in each decision tree. Once all individual trees are fit to the random subset of the training data, using a random set of feature variable at each node, the ensemble of them all is used to give the final prediction. \n",
        "\n",
        "In the classification mode, this means that if you were to have 5 classes being predicted using 500 trees, the output prediction would be the class that has the most number of the 500 trees predicting it. The proportion of the number of trees that voted for the winning class can be a diagnostic of the representativeness of your training data relative to the rest of the image. Taking the 500 trees example, if you have pixels which are voted to be in the \"Forest\" land cover class by 475 of 500 trees, you could say that this was a relatively certain prediction. On the other hand, if you have a pixel which gets 250 votes for \"Forest\" and 225 votes for \"Shrub\", you could interpret this as either an innately confusing pixel (maybe it is a mixed pixel, or it is a small statured forest) or as an indicator that you need more training data samples in these types of pixels.\n",
        "\n",
        "Finally, Random Forest has some other benefits:\n",
        "+ It gives you a measure of \"variable important\" which relates how useful your input features (e.g. spectral bands) were in the classification\n",
        "+ The \"out-of-bag\" samples in each tree can be used to validate each tree. Grouping these predicted accuracies across all trees can [sometimes give you an unbiased estimate of the error rate](http://www.stat.berkeley.edu/~breiman/RandomForests/cc_home.htm#ooberr) similar to doing cross-validation.\n",
        "+ Can be used for regressions, unsupervised clustering, or supervised classification\n",
        "+ Available in many popular languages, including Python, R, and MATLAB\n",
        "+ Free and open source, and fast"
      ]
    },
    {
      "cell_type": "markdown",
      "metadata": {
        "id": "5nbxo5jcx7ku"
      },
      "source": [
        "## scikit-learn\n",
        "\n",
        "In this chapter we will be using the Random Forest implementation provided by the [scikit-learn](http://scikit-learn.org) library. `Scikit-learn` is an amazing machine learning library that provides easy and consistent interfaces to many of the most popular machine learning algorithms. It is built on top of the pre-existing scientific Python libraries, including NumPy, SciPy, and matplotlib, which makes it very easy to incorporate into your workflow. The number of available methods for accomplishing any task contained within the library is (in my opinion) its real strength. No single algorithm is best for all tasks under all circumstances, and `scikit-learn` helps you understand this by abstracting the details of each algorithm to simple consistent interfaces. For example:"
      ]
    },
    {
      "cell_type": "code",
      "execution_count": 8,
      "metadata": {
        "id": "2LAaBGnKx7ku",
        "outputId": "ee716b76-fcaa-4720-d512-d90a8bbcc25a",
        "colab": {
          "base_uri": "https://localhost:8080/",
          "height": 934
        }
      },
      "outputs": [
        {
          "output_type": "error",
          "ename": "FileNotFoundError",
          "evalue": "ignored",
          "traceback": [
            "\u001b[0;31m---------------------------------------------------------------------------\u001b[0m",
            "\u001b[0;31mTypeError\u001b[0m                                 Traceback (most recent call last)",
            "\u001b[0;32m/usr/local/lib/python3.7/dist-packages/IPython/core/display.py\u001b[0m in \u001b[0;36m_data_and_metadata\u001b[0;34m(self, always_both)\u001b[0m\n\u001b[1;32m   1271\u001b[0m         \u001b[0;32mtry\u001b[0m\u001b[0;34m:\u001b[0m\u001b[0;34m\u001b[0m\u001b[0;34m\u001b[0m\u001b[0m\n\u001b[0;32m-> 1272\u001b[0;31m             \u001b[0mb64_data\u001b[0m \u001b[0;34m=\u001b[0m \u001b[0mb2a_base64\u001b[0m\u001b[0;34m(\u001b[0m\u001b[0mself\u001b[0m\u001b[0;34m.\u001b[0m\u001b[0mdata\u001b[0m\u001b[0;34m)\u001b[0m\u001b[0;34m.\u001b[0m\u001b[0mdecode\u001b[0m\u001b[0;34m(\u001b[0m\u001b[0;34m'ascii'\u001b[0m\u001b[0;34m)\u001b[0m\u001b[0;34m\u001b[0m\u001b[0;34m\u001b[0m\u001b[0m\n\u001b[0m\u001b[1;32m   1273\u001b[0m         \u001b[0;32mexcept\u001b[0m \u001b[0mTypeError\u001b[0m\u001b[0;34m:\u001b[0m\u001b[0;34m\u001b[0m\u001b[0;34m\u001b[0m\u001b[0m\n",
            "\u001b[0;31mTypeError\u001b[0m: a bytes-like object is required, not 'NoneType'",
            "\nDuring handling of the above exception, another exception occurred:\n",
            "\u001b[0;31mFileNotFoundError\u001b[0m                         Traceback (most recent call last)",
            "\u001b[0;32m/usr/local/lib/python3.7/dist-packages/IPython/core/formatters.py\u001b[0m in \u001b[0;36m__call__\u001b[0;34m(self, obj, include, exclude)\u001b[0m\n\u001b[1;32m    968\u001b[0m \u001b[0;34m\u001b[0m\u001b[0m\n\u001b[1;32m    969\u001b[0m             \u001b[0;32mif\u001b[0m \u001b[0mmethod\u001b[0m \u001b[0;32mis\u001b[0m \u001b[0;32mnot\u001b[0m \u001b[0;32mNone\u001b[0m\u001b[0;34m:\u001b[0m\u001b[0;34m\u001b[0m\u001b[0;34m\u001b[0m\u001b[0m\n\u001b[0;32m--> 970\u001b[0;31m                 \u001b[0;32mreturn\u001b[0m \u001b[0mmethod\u001b[0m\u001b[0;34m(\u001b[0m\u001b[0minclude\u001b[0m\u001b[0;34m=\u001b[0m\u001b[0minclude\u001b[0m\u001b[0;34m,\u001b[0m \u001b[0mexclude\u001b[0m\u001b[0;34m=\u001b[0m\u001b[0mexclude\u001b[0m\u001b[0;34m)\u001b[0m\u001b[0;34m\u001b[0m\u001b[0;34m\u001b[0m\u001b[0m\n\u001b[0m\u001b[1;32m    971\u001b[0m             \u001b[0;32mreturn\u001b[0m \u001b[0;32mNone\u001b[0m\u001b[0;34m\u001b[0m\u001b[0;34m\u001b[0m\u001b[0m\n\u001b[1;32m    972\u001b[0m         \u001b[0;32melse\u001b[0m\u001b[0;34m:\u001b[0m\u001b[0;34m\u001b[0m\u001b[0;34m\u001b[0m\u001b[0m\n",
            "\u001b[0;32m/usr/local/lib/python3.7/dist-packages/IPython/core/display.py\u001b[0m in \u001b[0;36m_repr_mimebundle_\u001b[0;34m(self, include, exclude)\u001b[0m\n\u001b[1;32m   1260\u001b[0m         \u001b[0;32mif\u001b[0m \u001b[0mself\u001b[0m\u001b[0;34m.\u001b[0m\u001b[0membed\u001b[0m\u001b[0;34m:\u001b[0m\u001b[0;34m\u001b[0m\u001b[0;34m\u001b[0m\u001b[0m\n\u001b[1;32m   1261\u001b[0m             \u001b[0mmimetype\u001b[0m \u001b[0;34m=\u001b[0m \u001b[0mself\u001b[0m\u001b[0;34m.\u001b[0m\u001b[0m_mimetype\u001b[0m\u001b[0;34m\u001b[0m\u001b[0;34m\u001b[0m\u001b[0m\n\u001b[0;32m-> 1262\u001b[0;31m             \u001b[0mdata\u001b[0m\u001b[0;34m,\u001b[0m \u001b[0mmetadata\u001b[0m \u001b[0;34m=\u001b[0m \u001b[0mself\u001b[0m\u001b[0;34m.\u001b[0m\u001b[0m_data_and_metadata\u001b[0m\u001b[0;34m(\u001b[0m\u001b[0malways_both\u001b[0m\u001b[0;34m=\u001b[0m\u001b[0;32mTrue\u001b[0m\u001b[0;34m)\u001b[0m\u001b[0;34m\u001b[0m\u001b[0;34m\u001b[0m\u001b[0m\n\u001b[0m\u001b[1;32m   1263\u001b[0m             \u001b[0;32mif\u001b[0m \u001b[0mmetadata\u001b[0m\u001b[0;34m:\u001b[0m\u001b[0;34m\u001b[0m\u001b[0;34m\u001b[0m\u001b[0m\n\u001b[1;32m   1264\u001b[0m                 \u001b[0mmetadata\u001b[0m \u001b[0;34m=\u001b[0m \u001b[0;34m{\u001b[0m\u001b[0mmimetype\u001b[0m\u001b[0;34m:\u001b[0m \u001b[0mmetadata\u001b[0m\u001b[0;34m}\u001b[0m\u001b[0;34m\u001b[0m\u001b[0;34m\u001b[0m\u001b[0m\n",
            "\u001b[0;32m/usr/local/lib/python3.7/dist-packages/IPython/core/display.py\u001b[0m in \u001b[0;36m_data_and_metadata\u001b[0;34m(self, always_both)\u001b[0m\n\u001b[1;32m   1273\u001b[0m         \u001b[0;32mexcept\u001b[0m \u001b[0mTypeError\u001b[0m\u001b[0;34m:\u001b[0m\u001b[0;34m\u001b[0m\u001b[0;34m\u001b[0m\u001b[0m\n\u001b[1;32m   1274\u001b[0m             raise FileNotFoundError(\n\u001b[0;32m-> 1275\u001b[0;31m                 \"No such file or directory: '%s'\" % (self.data))\n\u001b[0m\u001b[1;32m   1276\u001b[0m         \u001b[0mmd\u001b[0m \u001b[0;34m=\u001b[0m \u001b[0;34m{\u001b[0m\u001b[0;34m}\u001b[0m\u001b[0;34m\u001b[0m\u001b[0;34m\u001b[0m\u001b[0m\n\u001b[1;32m   1277\u001b[0m         \u001b[0;32mif\u001b[0m \u001b[0mself\u001b[0m\u001b[0;34m.\u001b[0m\u001b[0mmetadata\u001b[0m\u001b[0;34m:\u001b[0m\u001b[0;34m\u001b[0m\u001b[0;34m\u001b[0m\u001b[0m\n",
            "\u001b[0;31mFileNotFoundError\u001b[0m: No such file or directory: 'None'"
          ]
        },
        {
          "output_type": "error",
          "ename": "FileNotFoundError",
          "evalue": "ignored",
          "traceback": [
            "\u001b[0;31m---------------------------------------------------------------------------\u001b[0m",
            "\u001b[0;31mTypeError\u001b[0m                                 Traceback (most recent call last)",
            "\u001b[0;32m/usr/local/lib/python3.7/dist-packages/IPython/core/display.py\u001b[0m in \u001b[0;36m_data_and_metadata\u001b[0;34m(self, always_both)\u001b[0m\n\u001b[1;32m   1271\u001b[0m         \u001b[0;32mtry\u001b[0m\u001b[0;34m:\u001b[0m\u001b[0;34m\u001b[0m\u001b[0;34m\u001b[0m\u001b[0m\n\u001b[0;32m-> 1272\u001b[0;31m             \u001b[0mb64_data\u001b[0m \u001b[0;34m=\u001b[0m \u001b[0mb2a_base64\u001b[0m\u001b[0;34m(\u001b[0m\u001b[0mself\u001b[0m\u001b[0;34m.\u001b[0m\u001b[0mdata\u001b[0m\u001b[0;34m)\u001b[0m\u001b[0;34m.\u001b[0m\u001b[0mdecode\u001b[0m\u001b[0;34m(\u001b[0m\u001b[0;34m'ascii'\u001b[0m\u001b[0;34m)\u001b[0m\u001b[0;34m\u001b[0m\u001b[0;34m\u001b[0m\u001b[0m\n\u001b[0m\u001b[1;32m   1273\u001b[0m         \u001b[0;32mexcept\u001b[0m \u001b[0mTypeError\u001b[0m\u001b[0;34m:\u001b[0m\u001b[0;34m\u001b[0m\u001b[0;34m\u001b[0m\u001b[0m\n",
            "\u001b[0;31mTypeError\u001b[0m: a bytes-like object is required, not 'NoneType'",
            "\nDuring handling of the above exception, another exception occurred:\n",
            "\u001b[0;31mFileNotFoundError\u001b[0m                         Traceback (most recent call last)",
            "\u001b[0;32m/usr/local/lib/python3.7/dist-packages/IPython/core/formatters.py\u001b[0m in \u001b[0;36m__call__\u001b[0;34m(self, obj)\u001b[0m\n\u001b[1;32m    343\u001b[0m             \u001b[0mmethod\u001b[0m \u001b[0;34m=\u001b[0m \u001b[0mget_real_method\u001b[0m\u001b[0;34m(\u001b[0m\u001b[0mobj\u001b[0m\u001b[0;34m,\u001b[0m \u001b[0mself\u001b[0m\u001b[0;34m.\u001b[0m\u001b[0mprint_method\u001b[0m\u001b[0;34m)\u001b[0m\u001b[0;34m\u001b[0m\u001b[0;34m\u001b[0m\u001b[0m\n\u001b[1;32m    344\u001b[0m             \u001b[0;32mif\u001b[0m \u001b[0mmethod\u001b[0m \u001b[0;32mis\u001b[0m \u001b[0;32mnot\u001b[0m \u001b[0;32mNone\u001b[0m\u001b[0;34m:\u001b[0m\u001b[0;34m\u001b[0m\u001b[0;34m\u001b[0m\u001b[0m\n\u001b[0;32m--> 345\u001b[0;31m                 \u001b[0;32mreturn\u001b[0m \u001b[0mmethod\u001b[0m\u001b[0;34m(\u001b[0m\u001b[0;34m)\u001b[0m\u001b[0;34m\u001b[0m\u001b[0;34m\u001b[0m\u001b[0m\n\u001b[0m\u001b[1;32m    346\u001b[0m             \u001b[0;32mreturn\u001b[0m \u001b[0;32mNone\u001b[0m\u001b[0;34m\u001b[0m\u001b[0;34m\u001b[0m\u001b[0m\n\u001b[1;32m    347\u001b[0m         \u001b[0;32melse\u001b[0m\u001b[0;34m:\u001b[0m\u001b[0;34m\u001b[0m\u001b[0;34m\u001b[0m\u001b[0m\n",
            "\u001b[0;32m/usr/local/lib/python3.7/dist-packages/IPython/core/display.py\u001b[0m in \u001b[0;36m_repr_png_\u001b[0;34m(self)\u001b[0m\n\u001b[1;32m   1290\u001b[0m     \u001b[0;32mdef\u001b[0m \u001b[0m_repr_png_\u001b[0m\u001b[0;34m(\u001b[0m\u001b[0mself\u001b[0m\u001b[0;34m)\u001b[0m\u001b[0;34m:\u001b[0m\u001b[0;34m\u001b[0m\u001b[0;34m\u001b[0m\u001b[0m\n\u001b[1;32m   1291\u001b[0m         \u001b[0;32mif\u001b[0m \u001b[0mself\u001b[0m\u001b[0;34m.\u001b[0m\u001b[0membed\u001b[0m \u001b[0;32mand\u001b[0m \u001b[0mself\u001b[0m\u001b[0;34m.\u001b[0m\u001b[0mformat\u001b[0m \u001b[0;34m==\u001b[0m \u001b[0mself\u001b[0m\u001b[0;34m.\u001b[0m\u001b[0m_FMT_PNG\u001b[0m\u001b[0;34m:\u001b[0m\u001b[0;34m\u001b[0m\u001b[0;34m\u001b[0m\u001b[0m\n\u001b[0;32m-> 1292\u001b[0;31m             \u001b[0;32mreturn\u001b[0m \u001b[0mself\u001b[0m\u001b[0;34m.\u001b[0m\u001b[0m_data_and_metadata\u001b[0m\u001b[0;34m(\u001b[0m\u001b[0;34m)\u001b[0m\u001b[0;34m\u001b[0m\u001b[0;34m\u001b[0m\u001b[0m\n\u001b[0m\u001b[1;32m   1293\u001b[0m \u001b[0;34m\u001b[0m\u001b[0m\n\u001b[1;32m   1294\u001b[0m     \u001b[0;32mdef\u001b[0m \u001b[0m_repr_jpeg_\u001b[0m\u001b[0;34m(\u001b[0m\u001b[0mself\u001b[0m\u001b[0;34m)\u001b[0m\u001b[0;34m:\u001b[0m\u001b[0;34m\u001b[0m\u001b[0;34m\u001b[0m\u001b[0m\n",
            "\u001b[0;32m/usr/local/lib/python3.7/dist-packages/IPython/core/display.py\u001b[0m in \u001b[0;36m_data_and_metadata\u001b[0;34m(self, always_both)\u001b[0m\n\u001b[1;32m   1273\u001b[0m         \u001b[0;32mexcept\u001b[0m \u001b[0mTypeError\u001b[0m\u001b[0;34m:\u001b[0m\u001b[0;34m\u001b[0m\u001b[0;34m\u001b[0m\u001b[0m\n\u001b[1;32m   1274\u001b[0m             raise FileNotFoundError(\n\u001b[0;32m-> 1275\u001b[0;31m                 \"No such file or directory: '%s'\" % (self.data))\n\u001b[0m\u001b[1;32m   1276\u001b[0m         \u001b[0mmd\u001b[0m \u001b[0;34m=\u001b[0m \u001b[0;34m{\u001b[0m\u001b[0;34m}\u001b[0m\u001b[0;34m\u001b[0m\u001b[0;34m\u001b[0m\u001b[0m\n\u001b[1;32m   1277\u001b[0m         \u001b[0;32mif\u001b[0m \u001b[0mself\u001b[0m\u001b[0;34m.\u001b[0m\u001b[0mmetadata\u001b[0m\u001b[0;34m:\u001b[0m\u001b[0;34m\u001b[0m\u001b[0;34m\u001b[0m\u001b[0m\n",
            "\u001b[0;31mFileNotFoundError\u001b[0m: No such file or directory: 'None'"
          ]
        },
        {
          "output_type": "execute_result",
          "data": {
            "text/plain": [
              "<IPython.core.display.Image object>"
            ]
          },
          "metadata": {},
          "execution_count": 8
        }
      ],
      "source": [
        "from IPython.display import Image\n",
        "img = Image('http://scikit-learn.org/stable/_images/plot_classifier_comparison_001.png')\n",
        "img"
      ]
    },
    {
      "cell_type": "markdown",
      "metadata": {
        "id": "n91cCzc5x7kw"
      },
      "source": [
        "[This figure](http://scikit-learn.org/stable/auto_examples/plot_classifier_comparison.html) shows the classification predictions and the decision surfaces produced for three classification problems using 9 different classifiers. What is even more impressive is that all of this took only about 110 lines of code, including comments!"
      ]
    },
    {
      "cell_type": "markdown",
      "metadata": {
        "id": "9YeUR8fQx7kw"
      },
      "source": [
        "## Preparing the dataset\n",
        "#### Opening the images\n",
        "Our first step is to recall our previous chapter's lessons by reading in the example image and the ROI image we created in Chapter 4 (link to [website](chapter_4_vector.html) or [Notebook](chapter_4_vector.ipynb)):"
      ]
    },
    {
      "cell_type": "code",
      "execution_count": 13,
      "metadata": {
        "id": "EW-KIRgHx7kx",
        "outputId": "c8507fce-dc3c-4c83-dd55-3d81e296dbbb",
        "colab": {
          "base_uri": "https://localhost:8080/",
          "height": 216
        }
      },
      "outputs": [
        {
          "output_type": "display_data",
          "data": {
            "text/plain": [
              "<Figure size 432x288 with 2 Axes>"
            ],
            "image/png": "[encoded data removed]"
          },
          "metadata": {
            "needs_background": "light"
          }
        }
      ],
      "source": [
        "# Import Python 3's print function and division\n",
        "from __future__ import print_function, division\n",
        "\n",
        "# Import GDAL, NumPy, and matplotlib\n",
        "from osgeo import gdal, gdal_array\n",
        "import numpy as np\n",
        "import matplotlib.pyplot as plt\n",
        "%matplotlib inline\n",
        "\n",
        "# Tell GDAL to throw Python exceptions, and register all drivers\n",
        "gdal.UseExceptions()\n",
        "gdal.AllRegister()\n",
        "\n",
        "# Read in our image and ROI image\n",
        "img_ds = gdal.Open('open-geo-tutorial/example/LE70220491999322EDC01_stack.gtif', gdal.GA_ReadOnly)\n",
        "roi_ds = gdal.Open('open-geo-tutorial/example/training_data.gtif', gdal.GA_ReadOnly)\n",
        "\n",
        "img = np.zeros((img_ds.RasterYSize, img_ds.RasterXSize, img_ds.RasterCount),\n",
        "               gdal_array.GDALTypeCodeToNumericTypeCode(img_ds.GetRasterBand(1).DataType))\n",
        "for b in range(img.shape[2]):\n",
        "    img[:, :, b] = img_ds.GetRasterBand(b + 1).ReadAsArray()\n",
        "    \n",
        "roi = roi_ds.GetRasterBand(1).ReadAsArray().astype(np.uint8)\n",
        "\n",
        "# Display them\n",
        "plt.subplot(121)\n",
        "plt.imshow(img[:, :, 4], cmap=plt.cm.Greys_r)\n",
        "plt.title('SWIR1')\n",
        "\n",
        "plt.subplot(122)\n",
        "plt.imshow(roi, cmap=plt.cm.Spectral)\n",
        "plt.title('ROI Training Data')\n",
        "\n",
        "plt.show()"
      ]
    },
    {
      "cell_type": "markdown",
      "metadata": {
        "id": "_1WQSEp4x7kx"
      },
      "source": [
        "#### Pairing Y with X\n",
        "Now that we have the image we want to classify (our X feature inputs), and the ROI with the land cover labels (our Y labeled data), we need to pair them up in NumPy arrays so we may feed them to Random Forest:"
      ]
    },
    {
      "cell_type": "code",
      "execution_count": null,
      "metadata": {
        "id": "mUBiOn13x7kx"
      },
      "outputs": [],
      "source": [
        "# Find how many non-zero entries we have -- i.e. how many training data samples?\n",
        "n_samples = (roi > 0).sum()\n",
        "print('We have {n} samples'.format(n=n_samples))\n",
        "\n",
        "# What are our classification labels?\n",
        "labels = np.unique(roi[roi > 0])\n",
        "print('The training data include {n} classes: {classes}'.format(n=labels.size, \n",
        "                                                                classes=labels))\n",
        "# We will need a \"X\" matrix containing our features, and a \"y\" array containing our labels\n",
        "#     These will have n_samples rows\n",
        "#     In other languages we would need to allocate these and them loop to fill them, but NumPy can be faster\n",
        "\n",
        "X = img[roi > 0, :]  # include 8th band, which is Fmask, for now\n",
        "y = roi[roi > 0]\n",
        "\n",
        "print('Our X matrix is sized: {sz}'.format(sz=X.shape))\n",
        "print('Our y array is sized: {sz}'.format(sz=y.shape))\n",
        "\n",
        "# Mask out clouds, cloud shadows, and snow using Fmask\n",
        "clear = X[:, 7] <= 1\n",
        "\n",
        "X = X[clear, :7]  # we can ditch the Fmask band now\n",
        "y = y[clear]\n",
        "\n",
        "print('After masking, our X matrix is sized: {sz}'.format(sz=X.shape))\n",
        "print('After masking, our y array is sized: {sz}'.format(sz=y.shape))"
      ]
    },
    {
      "cell_type": "markdown",
      "metadata": {
        "id": "8NJ36lNWx7ky"
      },
      "source": [
        "## Training the Random Forest\n",
        "Now that we have our X matrix of feature inputs (the spectral bands) and our y array (the labels), we can train our model.\n",
        "\n",
        "Visit [this web page to find the usage of RandomForestClassifier](http://scikit-learn.org/stable/modules/generated/sklearn.ensemble.RandomForestClassifier.html) from `scikit-learn`."
      ]
    },
    {
      "cell_type": "code",
      "execution_count": null,
      "metadata": {
        "id": "PL70hC0Vx7kz"
      },
      "outputs": [],
      "source": [
        "from sklearn.ensemble import RandomForestClassifier\n",
        "\n",
        "# Initialize our model with 500 trees\n",
        "rf = RandomForestClassifier(n_estimators=500, oob_score=True)\n",
        "\n",
        "# Fit our model to training data\n",
        "rf = rf.fit(X, y)"
      ]
    },
    {
      "cell_type": "markdown",
      "metadata": {
        "id": "UjvfeyNVx7kz"
      },
      "source": [
        "#### Random Forest diagnostics"
      ]
    },
    {
      "cell_type": "markdown",
      "metadata": {
        "id": "ezzlgHLmx7k0"
      },
      "source": [
        "With our Random Forest model fit, we can check out the \"Out-of-Bag\" (OOB) prediction score:"
      ]
    },
    {
      "cell_type": "code",
      "execution_count": null,
      "metadata": {
        "id": "geZwSGoyx7k0"
      },
      "outputs": [],
      "source": [
        "print('Our OOB prediction of accuracy is: {oob}%'.format(oob=rf.oob_score_ * 100))"
      ]
    },
    {
      "cell_type": "markdown",
      "metadata": {
        "id": "QFRDzWFdx7k0"
      },
      "source": [
        "To help us get an idea of which spectral bands were important, we can look at the feature importance scores:"
      ]
    },
    {
      "cell_type": "code",
      "execution_count": null,
      "metadata": {
        "id": "lDdqwjOfx7k0"
      },
      "outputs": [],
      "source": [
        "bands = [1, 2, 3, 4, 5, 7, 6]\n",
        "\n",
        "for b, imp in zip(bands, rf.feature_importances_):\n",
        "    print('Band {b} importance: {imp}'.format(b=b, imp=imp))"
      ]
    },
    {
      "cell_type": "markdown",
      "metadata": {
        "id": "zGYpTExlx7k1"
      },
      "source": [
        "With the largest weights, it looks like the SWIR1 and the Green bands were the most useful to us. Not surprising, the thermal band is not very useful because there isn't much delineation of land cover type with temperature if you only look with a very small area not influenced by Urban Heat Island.\n",
        "\n",
        "Let's look at a crosstabulation to see the class confusion. To do so, we will import the [Pandas](http://pandas.pydata.org/) library for some help:"
      ]
    },
    {
      "cell_type": "code",
      "execution_count": null,
      "metadata": {
        "id": "Ab7uAnCEx7k1"
      },
      "outputs": [],
      "source": [
        "import pandas as pd\n",
        "\n",
        "# Setup a dataframe -- just like R\n",
        "df = pd.DataFrame()\n",
        "df['truth'] = y\n",
        "df['predict'] = rf.predict(X)\n",
        "\n",
        "# Cross-tabulate predictions\n",
        "print(pd.crosstab(df['truth'], df['predict'], margins=True))"
      ]
    },
    {
      "cell_type": "markdown",
      "metadata": {
        "id": "dzXZjiYlx7k1"
      },
      "source": [
        "Unbelievable, eh? I highly doubt the real confusion matrix will be 100% accuracy. What is likely going on is that we used a large number of trees within a machine learning algorithm to best figure out the pattern in our training data. Given enough information and effort, this algorithm precisely learned what we gave it. Asking to validate a machine learning algorithm on the training data is a useless exercise that will overinflate the accuracy.\n",
        "\n",
        "Instead, we could have done a crossvalidation approach where we train on a subset the dataset, and then predict and assess the accuracy using the sections we didn't train it on. To get a robust measure of the performance, we would run this using random subsets some number of times."
      ]
    },
    {
      "cell_type": "markdown",
      "metadata": {
        "id": "4Kq139eXx7k1"
      },
      "source": [
        "## Predicting the rest of the image\n",
        "\n",
        "With our Random Forest classifier fit, we can now proceed by trying to classify the entire image:"
      ]
    },
    {
      "cell_type": "code",
      "execution_count": null,
      "metadata": {
        "id": "za2jHvtAx7k1"
      },
      "outputs": [],
      "source": [
        "# Take our full image, ignore the Fmask band, and reshape into long 2d array (nrow * ncol, nband) for classification\n",
        "new_shape = (img.shape[0] * img.shape[1], img.shape[2] - 1)\n",
        "\n",
        "img_as_array = img[:, :, :7].reshape(new_shape)\n",
        "print('Reshaped from {o} to {n}'.format(o=img.shape,\n",
        "                                        n=img_as_array.shape))\n",
        "\n",
        "# Now predict for each pixel\n",
        "class_prediction = rf.predict(img_as_array)\n",
        "\n",
        "# Reshape our classification map\n",
        "class_prediction = class_prediction.reshape(img[:, :, 0].shape)"
      ]
    },
    {
      "cell_type": "code",
      "execution_count": null,
      "metadata": {
        "id": "bol_Nkg1x7k2"
      },
      "outputs": [],
      "source": [
        "# Visualize\n",
        "\n",
        "# First setup a 5-4-3 composite\n",
        "def color_stretch(image, index, minmax=(0, 10000)):\n",
        "    colors = image[:, :, index].astype(np.float64)\n",
        "\n",
        "    max_val = minmax[1]\n",
        "    min_val = minmax[0]\n",
        "\n",
        "    # Enforce maximum and minimum values\n",
        "    colors[colors[:, :, :] > max_val] = max_val\n",
        "    colors[colors[:, :, :] < min_val] = min_val\n",
        "\n",
        "    for b in range(colors.shape[2]):\n",
        "        colors[:, :, b] = colors[:, :, b] * 1 / (max_val - min_val)\n",
        "        \n",
        "    return colors\n",
        "    \n",
        "img543 = color_stretch(img, [4, 3, 2], (0, 8000))\n",
        "\n",
        "# See https://github.com/matplotlib/matplotlib/issues/844/\n",
        "n = class_prediction.max()\n",
        "# Next setup a colormap for our map\n",
        "colors = dict((\n",
        "    (0, (0, 0, 0, 255)),  # Nodata\n",
        "    (1, (0, 150, 0, 255)),  # Forest\n",
        "    (2, (0, 0, 255, 255)),  # Water\n",
        "    (3, (0, 255, 0, 255)),  # Herbaceous\n",
        "    (4, (160, 82, 45, 255)),  # Barren\n",
        "    (5, (255, 0, 0, 255))  # Urban\n",
        "))\n",
        "# Put 0 - 255 as float 0 - 1\n",
        "for k in colors:\n",
        "    v = colors[k]\n",
        "    _v = [_v / 255.0 for _v in v]\n",
        "    colors[k] = _v\n",
        "    \n",
        "index_colors = [colors[key] if key in colors else \n",
        "                (255, 255, 255, 0) for key in range(1, n + 1)]\n",
        "cmap = plt.matplotlib.colors.ListedColormap(index_colors, 'Classification', n)\n",
        "\n",
        "# Now show the classmap next to the image\n",
        "plt.subplot(121)\n",
        "plt.imshow(img543)\n",
        "\n",
        "plt.subplot(122)\n",
        "plt.imshow(class_prediction, cmap=cmap, interpolation='none')\n",
        "\n",
        "plt.show()"
      ]
    },
    {
      "cell_type": "markdown",
      "metadata": {
        "id": "fEmNV7g4x7k2"
      },
      "source": [
        "## Wrapup\n",
        "\n",
        "We've seen how we can use `scikit-learn` to implement the Random Forest classifier for land cover classification. A couple future directions that immediately follow this tutorial include:\n",
        "\n",
        "+ Extend the lessons learned in the [visualization chapter](chapter_3_visualization.ipynb) to explore the class separability along various dimensions of the data. For example, plot the SWIR1 band against the NIR band and label each point in the scatter plot a different color according to the training data label.\n",
        "+ Add additional features - would using NDVI as well as the spectral bands improve our classification?\n",
        "+ `scikit-learn` includes many machine learning classifiers -- are any of these better than Random Forest for our goal?\n",
        "+ We've only worked using a single date of imagery -- we could perform a direct classification of change using two dates\n",
        "+ This approach only leverages the spectral information in Landsat. What would happen if we looked into some spatial information metrics like incorporating moving window statistics? For more on this, see [chapter 7](chapter_6_spatial.ipynb).\n",
        "\n",
        "We've seen how Random Forest can come up with an estimate of the classification accuracy using the \"Out-of-Bag\" samples. While this may be a useful metric, we will need to perform a proper accuracy assessment based on a probability sample to conclude anything about the accuracy of the entire area. With the information from the accuracy assessment, we will be able not only to tell how good the map is, but more importantly we will be able to come up with statistically defensible unbiased estimates with confidence intervals of the land cover class areas in the map. For more information, see [Olofsson, *et. al.*, 2013](http://www.sciencedirect.com/science/article/pii/S0034425712004191)."
      ]
    }
  ],
  "metadata": {
    "kernelspec": {
      "display_name": "Python 3",
      "language": "python",
      "name": "python3"
    },
    "language_info": {
      "codemirror_mode": {
        "name": "ipython",
        "version": 3
      },
      "file_extension": ".py",
      "mimetype": "text/x-python",
      "name": "python",
      "nbconvert_exporter": "python",
      "pygments_lexer": "ipython3",
      "version": "3.4.5"
    },
    "colab": {
      "provenance": [],
      "include_colab_link": true
    }
  },
  "nbformat": 4,
  "nbformat_minor": 0
}